{
 "cells": [
  {
   "cell_type": "code",
   "execution_count": null,
   "id": "e6489ed2",
   "metadata": {},
   "outputs": [],
   "source": [
    "import nir\n",
    "import nirviz\n",
    "import importlib\n",
    "importlib.reload(nirviz)\n",
    "import numpy as np\n",
    "\n",
    "w = np.random.randn(2, 2)\n",
    "graph = nir.NIRGraph.from_list(nir.Linear(weight=w), nir.Linear(weight=w))\n",
    "viz = nirviz.visualize(graph)\n",
    "viz"
   ]
  },
  {
   "cell_type": "code",
   "execution_count": null,
   "id": "6ce90be1",
   "metadata": {},
   "outputs": [],
   "source": [
    "nir.write('test.nir', graph)"
   ]
  },
  {
   "cell_type": "code",
   "execution_count": null,
   "id": "72a6c8ac",
   "metadata": {},
   "outputs": [],
   "source": [
    "nirviz.NIRVisualizer(\"test.nir\")"
   ]
  },
  {
   "cell_type": "code",
   "execution_count": null,
   "id": "540d50fd-35d2-4d34-b371-1848cae61e84",
   "metadata": {
    "collapsed": false
   },
   "outputs": [],
   "source": [
    "import nir\n",
    "import nir_graph\n",
    "import numpy as np\n",
    "\n",
    "import importlib\n",
    "importlib.reload(nir_graph)\n",
    "\n",
    "w = np.random.randn(2, 2)\n",
    "graph = nir.NIRGraph.from_list(nir.Linear(weight=w), nir.Linear(weight=w))\n",
    "nir_graph.nir_to_svg(graph, format=\"png\", render_ipython=True)"
   ]
  },
  {
   "cell_type": "code",
   "execution_count": 2,
   "id": "825c58bd-75d2-4991-9a1a-f7c26d059b87",
   "metadata": {
    "collapsed": false
   },
   "outputs": [],
   "source": [
    "import graphviz\n",
    "import cairosvg\n",
    "from IPython.display import Image\n",
    "\n",
    "def get_nir_graphviz_image(nodes):\n",
    "    \"\"\"\n",
    "    Builds a directed NIR graph from a list of node names\n",
    "    and returns a PNG Image object for Jupyter display.\n",
    "    \"\"\"\n",
    "    # Build the graph with graphviz (SVG format)\n",
    "    dot = graphviz.Digraph(format='svg')\n",
    "    for n in nodes:\n",
    "        dot.node(n)\n",
    "    for i in range(len(nodes) - 1):\n",
    "        dot.edge(nodes[i], nodes[i + 1])\n",
    "\n",
    "    # Render SVG to a string\n",
    "    svg_data = dot.pipe().decode('utf-8')\n",
    "\n",
    "    # Convert SVG to PNG bytes via CairoSVG\n",
    "    png_bytes = cairosvg.svg2png(bytestring=svg_data.encode('utf-8'))\n",
    "\n",
    "    # Return an IPython.display.Image object\n",
    "    return Image(data=png_bytes)\n",
    "\n",
    "# Example usage in a Jupyter cell:\n",
    "# nodes = ['input', 'affine', 'li', 'output']\n",
    "# img = get_nir_graphviz_image(nodes)\n",
    "# img  # Jupyter will display the graph inline\n",
    "\n"
   ]
  }
 ],
 "metadata": {
  "kernelspec": {
   "display_name": ".venv",
   "language": "python",
   "name": "python3"
  },
  "language_info": {
   "codemirror_mode": {
    "name": "ipython",
    "version": 3
   },
   "file_extension": ".py",
   "mimetype": "text/x-python",
   "name": "python",
   "nbconvert_exporter": "python",
   "pygments_lexer": "ipython3",
   "version": "3.12.3"
  },
  "name": "Untitled.ipynb"
 },
 "nbformat": 4,
 "nbformat_minor": 5
}
